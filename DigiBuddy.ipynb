{
  "nbformat": 4,
  "nbformat_minor": 0,
  "metadata": {
    "colab": {
      "provenance": [],
      "gpuType": "T4",
      "authorship_tag": "ABX9TyMXIdpyeQZoDmkXOk0wXU4G",
      "include_colab_link": true
    },
    "kernelspec": {
      "name": "python3",
      "display_name": "Python 3"
    },
    "language_info": {
      "name": "python"
    },
    "accelerator": "GPU"
  },
  "cells": [
    {
      "cell_type": "markdown",
      "metadata": {
        "id": "view-in-github",
        "colab_type": "text"
      },
      "source": [
        "<a href=\"https://colab.research.google.com/github/Abhiz121/CollegeTips.in/blob/main/DigiBuddy.ipynb\" target=\"_parent\"><img src=\"https://colab.research.google.com/assets/colab-badge.svg\" alt=\"Open In Colab\"/></a>"
      ]
    },
    {
      "cell_type": "code",
      "execution_count": 1,
      "metadata": {
        "id": "RRPJvq5KZE--"
      },
      "outputs": [],
      "source": [
        "# 🤖 DigiBuddy Personality & Intro Message\n",
        "bot_name = \"DigiBuddy\"\n",
        "intro_message = (\n",
        "    \"Hello! I’m DigiBuddy, your tech-savvy buddy. Let’s master the digital world together! \"\n",
        "    \"Ask me anything about email, WhatsApp, Wi-Fi, or even paying bills online. 😊\"\n",
        ")\n",
        "\n",
        "# 💬 Friendly Phrases for Encouragement\n",
        "friendly_phrases = [\n",
        "    \"You're doing great! 👍\",\n",
        "    \"Don’t worry, it’s easier than it sounds!\",\n",
        "    \"Happy to help you anytime.\",\n",
        "    \"Let’s take it step by step. 😊\",\n",
        "    \"Think of me as your digital helper!\"\n",
        "]\n",
        "\n",
        "# 📚 FAQ Responses in Simple Language\n",
        "faq_responses = {\n",
        "    \"what is a browser\": \"A browser is like a window to the internet — Chrome, Firefox, and Safari are examples.\",\n",
        "    \"how to set up email\": \"Go to Gmail.com, click 'Create account', and follow the steps. Don’t worry, I’ll guide you!\",\n",
        "    \"how to use whatsapp\": \"WhatsApp lets you send messages and make calls for free. Just install it from the Play Store and follow the setup.\",\n",
        "    \"how to pay bills online\": \"You can pay bills using apps like Google Pay or Paytm. Open the app, choose 'Bill Payments', and follow the steps.\",\n",
        "    \"why is my phone not connecting to wifi\": \"Make sure Wi-Fi is turned on, the password is correct, and the router is working. Restart your phone if needed.\",\n",
        "}\n"
      ]
    },
    {
      "cell_type": "code",
      "source": [
        "import random\n",
        "\n",
        "# 🔁 Chatbot reply function\n",
        "def digibuddy_reply(user_input):\n",
        "    user_input = user_input.lower()\n",
        "\n",
        "    # Try to find a matching FAQ\n",
        "    for question, answer in faq_responses.items():\n",
        "        if question in user_input:\n",
        "            return f\"{answer} {random.choice(friendly_phrases)}\"\n",
        "\n",
        "    # If no match, give a friendly default response\n",
        "    return (\n",
        "        \"Hmm, I didn’t quite get that, but I’m here to help! 😊 \"\n",
        "        \"Try asking me something like 'How to use WhatsApp?' or 'How do I pay a bill online?'\"\n",
        "    )\n"
      ],
      "metadata": {
        "id": "H6gH9lzyZd5g"
      },
      "execution_count": 2,
      "outputs": []
    },
    {
      "cell_type": "code",
      "source": [
        "import gradio as gr\n",
        "\n",
        "# 🧠 DigiBuddy chatbot interface using Gradio\n",
        "with gr.Blocks() as demo:\n",
        "    gr.Markdown(\"## 👋 Welcome to DigiBuddy!\")\n",
        "    gr.Markdown(\"💡 I’m your friendly digital helper. Ask me anything about the digital world.\")\n",
        "    gr.Markdown(\"📌 Example: 'How do I use WhatsApp?' or 'What is a browser?'\")\n",
        "\n",
        "    chatbot = gr.Chatbot(label=\"DigiBuddy Chat\")\n",
        "    msg = gr.Textbox(placeholder=\"Type your question here...\", label=\"📝 Ask DigiBuddy\")\n",
        "\n",
        "    def respond(message, chat_history):\n",
        "        reply = digibuddy_reply(message)\n",
        "        chat_history.append((message, reply))\n",
        "        return \"\", chat_history\n",
        "\n",
        "    msg.submit(respond, [msg, chatbot], [msg, chatbot])\n",
        "\n",
        "# 🚀 Launch the chatbot UI\n",
        "demo.launch()"
      ],
      "metadata": {
        "colab": {
          "base_uri": "https://localhost:8080/",
          "height": 684
        },
        "id": "vuinQBmHZu3B",
        "outputId": "d86be2d0-2cbf-4794-d9ff-56c8e045b3e9"
      },
      "execution_count": 5,
      "outputs": [
        {
          "output_type": "stream",
          "name": "stderr",
          "text": [
            "<ipython-input-5-6b03109ed82c>:9: UserWarning: You have not specified a value for the `type` parameter. Defaulting to the 'tuples' format for chatbot messages, but this is deprecated and will be removed in a future version of Gradio. Please set type='messages' instead, which uses openai-style dictionaries with 'role' and 'content' keys.\n",
            "  chatbot = gr.Chatbot(label=\"DigiBuddy Chat\")\n"
          ]
        },
        {
          "output_type": "stream",
          "name": "stdout",
          "text": [
            "It looks like you are running Gradio on a hosted a Jupyter notebook. For the Gradio app to work, sharing must be enabled. Automatically setting `share=True` (you can turn this off by setting `share=False` in `launch()` explicitly).\n",
            "\n",
            "Colab notebook detected. To show errors in colab notebook, set debug=True in launch()\n",
            "* Running on public URL: https://03e040286900c4cb8b.gradio.live\n",
            "\n",
            "This share link expires in 1 week. For free permanent hosting and GPU upgrades, run `gradio deploy` from the terminal in the working directory to deploy to Hugging Face Spaces (https://huggingface.co/spaces)\n"
          ]
        },
        {
          "output_type": "display_data",
          "data": {
            "text/plain": [
              "<IPython.core.display.HTML object>"
            ],
            "text/html": [
              "<div><iframe src=\"https://03e040286900c4cb8b.gradio.live\" width=\"100%\" height=\"500\" allow=\"autoplay; camera; microphone; clipboard-read; clipboard-write;\" frameborder=\"0\" allowfullscreen></iframe></div>"
            ]
          },
          "metadata": {}
        },
        {
          "output_type": "execute_result",
          "data": {
            "text/plain": []
          },
          "metadata": {},
          "execution_count": 5
        }
      ]
    },
    {
      "cell_type": "code",
      "source": [
        "import gradio as gr\n",
        "\n",
        "# 🧠 DigiBuddy chatbot interface using Gradio\n",
        "with gr.Blocks() as demo:\n",
        "    # Use HTML tags to control font size instead of 'size' argument\n",
        "    gr.HTML(\"<h2 style='font-size: 30px;'>👋 Welcome to DigiBuddy!</h2>\")\n",
        "    gr.HTML(\"<p style='font-size: 20px;'>💡 I’m here to help you learn digital basics in simple steps.</p>\")\n",
        "    gr.HTML(\"<p style='font-size: 18px;'>📌 Example: 'How do I use WhatsApp?' or 'What is a browser?'</p>\")\n",
        "\n",
        "    chatbot = gr.Chatbot(label=\"DigiBuddy Chat\")\n",
        "    msg = gr.Textbox(placeholder=\"Type your question here...\", label=\"📝 Ask DigiBuddy\", elem_id=\"input-box\")\n",
        "\n",
        "    def respond(message, chat_history):\n",
        "        reply = digibuddy_reply(message)\n",
        "        chat_history.append((message, reply))\n",
        "        return \"\", chat_history\n",
        "\n",
        "    msg.submit(respond, [msg, chatbot], [msg, chatbot])\n",
        "\n",
        "# 🚀 Launch the chatbot UI\n",
        "demo.launch()"
      ],
      "metadata": {
        "colab": {
          "base_uri": "https://localhost:8080/",
          "height": 684
        },
        "id": "a-m9kqamZ_7r",
        "outputId": "b3bfae65-9a44-44e9-a4e2-9ea96a734ab1"
      },
      "execution_count": 8,
      "outputs": [
        {
          "output_type": "stream",
          "name": "stderr",
          "text": [
            "<ipython-input-8-5b9eed9a2f25>:10: UserWarning: You have not specified a value for the `type` parameter. Defaulting to the 'tuples' format for chatbot messages, but this is deprecated and will be removed in a future version of Gradio. Please set type='messages' instead, which uses openai-style dictionaries with 'role' and 'content' keys.\n",
            "  chatbot = gr.Chatbot(label=\"DigiBuddy Chat\")\n"
          ]
        },
        {
          "output_type": "stream",
          "name": "stdout",
          "text": [
            "It looks like you are running Gradio on a hosted a Jupyter notebook. For the Gradio app to work, sharing must be enabled. Automatically setting `share=True` (you can turn this off by setting `share=False` in `launch()` explicitly).\n",
            "\n",
            "Colab notebook detected. To show errors in colab notebook, set debug=True in launch()\n",
            "* Running on public URL: https://9f4c9adb89cb35f9c6.gradio.live\n",
            "\n",
            "This share link expires in 1 week. For free permanent hosting and GPU upgrades, run `gradio deploy` from the terminal in the working directory to deploy to Hugging Face Spaces (https://huggingface.co/spaces)\n"
          ]
        },
        {
          "output_type": "display_data",
          "data": {
            "text/plain": [
              "<IPython.core.display.HTML object>"
            ],
            "text/html": [
              "<div><iframe src=\"https://9f4c9adb89cb35f9c6.gradio.live\" width=\"100%\" height=\"500\" allow=\"autoplay; camera; microphone; clipboard-read; clipboard-write;\" frameborder=\"0\" allowfullscreen></iframe></div>"
            ]
          },
          "metadata": {}
        },
        {
          "output_type": "execute_result",
          "data": {
            "text/plain": []
          },
          "metadata": {},
          "execution_count": 8
        }
      ]
    },
    {
      "cell_type": "code",
      "source": [
        "import gradio as gr\n",
        "from deep_translator import GoogleTranslator\n",
        "import speech_recognition as sr\n",
        "\n",
        "# 🧠 Function to translate text to English\n",
        "def translate_to_english(text):\n",
        "    return GoogleTranslator(source='auto', target='en').translate(text)\n",
        "\n",
        "def translate_to_user_language(text, lang='es'):\n",
        "    return GoogleTranslator(source='en', target=lang).translate(text)\n",
        "\n",
        "# 🎤 Speech-to-text function (optional)\n",
        "def speech_to_text(audio_file):\n",
        "    recognizer = sr.Recognizer()\n",
        "    with sr.AudioFile(audio_file) as source:\n",
        "        audio_data = recognizer.record(source)\n",
        "        return recognizer.recognize_google(audio_data)\n",
        "\n",
        "# 🎨 Gradio interface\n",
        "with gr.Blocks() as demo:\n",
        "    gr.Markdown(\"<h1>👋 Welcome to DigiBuddy!</h1>\", elem_id=\"title\")\n",
        "    gr.Markdown(\"<h3>💡 I’m here to help you learn digital basics in simple steps.</h3>\", elem_id=\"subtitle\")\n",
        "    gr.Markdown(\"<p>📌 Example: 'How do I use WhatsApp?' or 'What is a browser?'</p>\", elem_id=\"example\")\n",
        "\n",
        "    chatbot = gr.Chatbot(label=\"DigiBuddy Chat\", type=\"messages\")  # Fix: Added 'type' to 'messages'\n",
        "\n",
        "    msg = gr.Audio(type=\"filepath\", label=\"🎤 Speak Your Question (Optional)\")  # Use type=\"filepath\"\n",
        "    button = gr.Button(\"Submit Audio\")  # Button to trigger the response\n",
        "\n",
        "    def respond(message, chat_history, user_language='en'):\n",
        "        if isinstance(message, str):\n",
        "            translated_message = translate_to_english(message)\n",
        "            reply = digibuddy_reply(translated_message)\n",
        "            translated_reply = translate_to_user_language(reply, user_language)\n",
        "        else:\n",
        "            text = speech_to_text(message)\n",
        "            translated_message = translate_to_english(text)\n",
        "            reply = digibuddy_reply(translated_message)\n",
        "            translated_reply = translate_to_user_language(reply, user_language)\n",
        "\n",
        "        chat_history.append((message, translated_reply))\n",
        "        return \"\", chat_history\n",
        "\n",
        "    # Connect the button to the respond function\n",
        "    button.click(respond, inputs=[msg, chatbot], outputs=[msg, chatbot])\n",
        "\n",
        "# 🚀 Launch the chatbot UI\n",
        "demo.launch()\n"
      ],
      "metadata": {
        "colab": {
          "base_uri": "https://localhost:8080/",
          "height": 628
        },
        "id": "DE_LP2eZaD4O",
        "outputId": "18297313-8d67-4575-a197-f4002aeeb0ae"
      },
      "execution_count": 26,
      "outputs": [
        {
          "output_type": "stream",
          "name": "stdout",
          "text": [
            "It looks like you are running Gradio on a hosted a Jupyter notebook. For the Gradio app to work, sharing must be enabled. Automatically setting `share=True` (you can turn this off by setting `share=False` in `launch()` explicitly).\n",
            "\n",
            "Colab notebook detected. To show errors in colab notebook, set debug=True in launch()\n",
            "* Running on public URL: https://4f86421dbe29429667.gradio.live\n",
            "\n",
            "This share link expires in 1 week. For free permanent hosting and GPU upgrades, run `gradio deploy` from the terminal in the working directory to deploy to Hugging Face Spaces (https://huggingface.co/spaces)\n"
          ]
        },
        {
          "output_type": "display_data",
          "data": {
            "text/plain": [
              "<IPython.core.display.HTML object>"
            ],
            "text/html": [
              "<div><iframe src=\"https://4f86421dbe29429667.gradio.live\" width=\"100%\" height=\"500\" allow=\"autoplay; camera; microphone; clipboard-read; clipboard-write;\" frameborder=\"0\" allowfullscreen></iframe></div>"
            ]
          },
          "metadata": {}
        },
        {
          "output_type": "execute_result",
          "data": {
            "text/plain": []
          },
          "metadata": {},
          "execution_count": 26
        }
      ]
    },
    {
      "cell_type": "code",
      "source": [],
      "metadata": {
        "id": "ZftW569Xb-6i"
      },
      "execution_count": null,
      "outputs": []
    }
  ]
}